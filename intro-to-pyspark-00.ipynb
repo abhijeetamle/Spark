{
 "cells": [
  {
   "cell_type": "markdown",
   "metadata": {},
   "source": [
    "## 1. Download Spark"
   ]
  },
  {
   "cell_type": "code",
   "execution_count": 1,
   "metadata": {},
   "outputs": [
    {
     "name": "stdout",
     "output_type": "stream",
     "text": [
      "/home/aamle/workshop-python-intro-to-spark\r\n"
     ]
    }
   ],
   "source": [
    "!pwd"
   ]
  },
  {
   "cell_type": "code",
   "execution_count": 2,
   "metadata": {},
   "outputs": [
    {
     "name": "stdout",
     "output_type": "stream",
     "text": [
      "--2020-06-12 09:51:46--  http://www.gtlib.gatech.edu/pub/apache/spark/spark-2.4.5/spark-2.4.5-bin-hadoop2.7.tgz\n",
      "Resolving www.gtlib.gatech.edu (www.gtlib.gatech.edu)... 2610:148:1f00:6f00:250:56ff:fe92:434b, 2610:148:1f00:6f00:216:36ff:fee9:2178, 2610:148:1f00:6f00:20c:29ff:fe3c:63a8, ...\n",
      "Connecting to www.gtlib.gatech.edu (www.gtlib.gatech.edu)|2610:148:1f00:6f00:250:56ff:fe92:434b|:80... failed: Network is unreachable.\n",
      "Connecting to www.gtlib.gatech.edu (www.gtlib.gatech.edu)|2610:148:1f00:6f00:216:36ff:fee9:2178|:80... failed: Network is unreachable.\n",
      "Connecting to www.gtlib.gatech.edu (www.gtlib.gatech.edu)|2610:148:1f00:6f00:20c:29ff:fe3c:63a8|:80... failed: Network is unreachable.\n",
      "Connecting to www.gtlib.gatech.edu (www.gtlib.gatech.edu)|2610:148:1f00:6f00:216:36ff:fe8e:1308|:80... failed: Network is unreachable.\n",
      "Connecting to www.gtlib.gatech.edu (www.gtlib.gatech.edu)|2610:148:1f00:6f00:21b:24ff:fe1d:e940|:80... failed: Network is unreachable.\n",
      "Connecting to www.gtlib.gatech.edu (www.gtlib.gatech.edu)|128.61.111.11|:80... connected.\n",
      "HTTP request sent, awaiting response... 200 OK\n",
      "Length: 232530699 (222M) [application/x-gzip]\n",
      "Saving to: ‘spark-2.4.5-bin-hadoop2.7.tgz’\n",
      "\n",
      "100%[======================================>] 232,530,699 24.4MB/s   in 9.3s   \n",
      "\n",
      "2020-06-12 09:51:57 (23.9 MB/s) - ‘spark-2.4.5-bin-hadoop2.7.tgz’ saved [232530699/232530699]\n",
      "\n"
     ]
    }
   ],
   "source": [
    "!bash download_spark.sh"
   ]
  },
  {
   "cell_type": "code",
   "execution_count": 3,
   "metadata": {},
   "outputs": [
    {
     "name": "stdout",
     "output_type": "stream",
     "text": [
      "Collecting pyspark\n",
      "  Downloading pyspark-2.4.6.tar.gz (218.4 MB)\n",
      "\u001b[K     |████████████████████████████████| 218.4 MB 39 kB/s s eta 0:00:01\n",
      "\u001b[?25hCollecting py4j==0.10.7\n",
      "  Downloading py4j-0.10.7-py2.py3-none-any.whl (197 kB)\n",
      "\u001b[K     |████████████████████████████████| 197 kB 36.7 MB/s eta 0:00:01\n",
      "\u001b[?25hBuilding wheels for collected packages: pyspark\n",
      "  Building wheel for pyspark (setup.py) ... \u001b[?25ldone\n",
      "\u001b[?25h  Created wheel for pyspark: filename=pyspark-2.4.6-py2.py3-none-any.whl size=218814406 sha256=3ee0bc3a53c32fd5b5c683310e53d9772141af2152dd601472a537715a1521b4\n",
      "  Stored in directory: /home/aamle/.cache/pip/wheels/93/cc/48/b5b101370aed13568860902e7a6ad942de9d246c2046848255\n",
      "Successfully built pyspark\n",
      "Installing collected packages: py4j, pyspark\n",
      "Successfully installed py4j-0.10.7 pyspark-2.4.6\n"
     ]
    }
   ],
   "source": [
    "!module purge;module load anaconda3/5.1.0; pip install --user pyspark"
   ]
  },
  {
   "cell_type": "markdown",
   "metadata": {},
   "source": [
    "## 2. Launch Spark Cluster"
   ]
  },
  {
   "cell_type": "code",
   "execution_count": 4,
   "metadata": {},
   "outputs": [
    {
     "name": "stdout",
     "output_type": "stream",
     "text": [
      "Launching Spark cluster with the following parameters:\n",
      "Master Node: node0314.palmetto.clemson.edu\n",
      "Slave Nodes:\n",
      "node0317.palmetto.clemson.edu\n",
      "node0355.palmetto.clemson.edu\n",
      "node0442.palmetto.clemson.edu\n",
      "Temporary dir: /local_scratch/pbs.8742780.pbs02\n",
      "Memory per worker (GB): 13G\n",
      "Cores per worker: 8\n",
      "Num workers: 3\n",
      ". /home/aamle/software/spark-2.4.5-bin-hadoop2.7/sbin/start-all.sh -h node0314.palmetto.clemson.edu -d /local_scratch/pbs.8742780.pbs02 -m 13G -c 3\n",
      "starting org.apache.spark.deploy.master.Master, logging to /home/aamle/software/spark-2.4.5-bin-hadoop2.7/logs/spark-aamle-org.apache.spark.deploy.master.Master-1-node0314.palmetto.clemson.edu.out\n",
      "node0317.palmetto.clemson.edu: Warning: Permanently added 'node0317.palmetto.clemson.edu,10.125.2.58' (RSA) to the list of known hosts.\n",
      "node0355.palmetto.clemson.edu: Warning: Permanently added 'node0355.palmetto.clemson.edu,10.125.2.96' (RSA) to the list of known hosts.\n",
      "node0442.palmetto.clemson.edu: Warning: Permanently added 'node0442.palmetto.clemson.edu,10.125.2.183' (RSA) to the list of known hosts.\n",
      "node0355.palmetto.clemson.edu: starting org.apache.spark.deploy.worker.Worker, logging to /home/aamle/software/spark-2.4.5-bin-hadoop2.7/logs/spark-aamle-org.apache.spark.deploy.worker.Worker-1-node0355.palmetto.clemson.edu.out\n",
      "node0317.palmetto.clemson.edu: starting org.apache.spark.deploy.worker.Worker, logging to /home/aamle/software/spark-2.4.5-bin-hadoop2.7/logs/spark-aamle-org.apache.spark.deploy.worker.Worker-1-node0317.palmetto.clemson.edu.out\n",
      "node0442.palmetto.clemson.edu: starting org.apache.spark.deploy.worker.Worker, logging to /home/aamle/software/spark-2.4.5-bin-hadoop2.7/logs/spark-aamle-org.apache.spark.deploy.worker.Worker-1-node0442.palmetto.clemson.edu.out\n"
     ]
    }
   ],
   "source": [
    "!bash launch_spark_cluster.sh"
   ]
  },
  {
   "cell_type": "markdown",
   "metadata": {},
   "source": [
    "## 3. Launch Spark Application"
   ]
  },
  {
   "cell_type": "code",
   "execution_count": 1,
   "metadata": {},
   "outputs": [
    {
     "name": "stdout",
     "output_type": "stream",
     "text": [
      "node0314.palmetto.clemson.edu\n",
      "\n",
      "<SparkContext master=spark://node0314.palmetto.clemson.edu:7077 appName=big-data-workshop>\n"
     ]
    }
   ],
   "source": [
    "import sys\n",
    "import os\n",
    "import pyspark\n",
    "\n",
    "env_spark_home=os.path.join(os.environ['HOME'],\"software\",\"spark-2.4.5-bin-hadoop2.7\")\n",
    "env_spark_conf_dir=os.path.join(env_spark_home,\"conf\")\n",
    "env_pyspark_python=os.path.join(\"/software\",\"anaconda3\",\"5.1.0\",\"bin\",\"python\")\n",
    "\n",
    "os.environ['SPARK_HOME'] = env_spark_home\n",
    "os.environ['SPARK_CONF_DIR'] = env_spark_conf_dir\n",
    "os.environ['PYSPARK_PYTHON'] = env_pyspark_python\n",
    "\n",
    "fp = open(os.path.join(env_spark_conf_dir,\"master\"))\n",
    "node_list = fp.readlines()\n",
    "print(node_list[0])\n",
    "import pyspark\n",
    "conf = pyspark.SparkConf()\n",
    "conf.setMaster(\"spark://\" + node_list[0].strip() + \":7077\")\n",
    "conf.setAppName('big-data-workshop')\n",
    "conf.set(\"spark.driver.memory\",\"5g\")\n",
    "conf.set(\"spark.executor.instances\", \"2\")\n",
    "conf.set(\"spark.executor.memory\",\"5g\")\n",
    "conf.set(\"spark.executor.cores\",\"5\")\n",
    "\n",
    "sc = pyspark.SparkContext(conf=conf)\n",
    "print(sc)"
   ]
  },
  {
   "cell_type": "code",
   "execution_count": 2,
   "metadata": {},
   "outputs": [],
   "source": [
    "textFile = sc.textFile(\"gutenberg-shakespeare.txt\")"
   ]
  },
  {
   "cell_type": "code",
   "execution_count": 3,
   "metadata": {},
   "outputs": [],
   "source": [
    "wordcount = textFile.flatMap(lambda line: line.split(\" \")) \\\n",
    "            .map(lambda word: (word, 1)) \\\n",
    "            .reduceByKey(lambda a, b: a + b)"
   ]
  },
  {
   "cell_type": "code",
   "execution_count": 4,
   "metadata": {},
   "outputs": [],
   "source": [
    "wordcount.saveAsTextFile(\"output-wordcount-01\")"
   ]
  },
  {
   "cell_type": "code",
   "execution_count": 5,
   "metadata": {},
   "outputs": [
    {
     "name": "stdout",
     "output_type": "stream",
     "text": [
      "total 1088\r\n",
      "-rw-r--r-- 1 aamle cuuser 528937 Jun 12 09:58 part-00000\r\n",
      "-rw-r--r-- 1 aamle cuuser 520144 Jun 12 09:58 part-00001\r\n",
      "-rw-r--r-- 1 aamle cuuser      0 Jun 12 09:58 _SUCCESS\r\n"
     ]
    }
   ],
   "source": [
    "!ls -l output-wordcount-01"
   ]
  },
  {
   "cell_type": "code",
   "execution_count": 6,
   "metadata": {},
   "outputs": [],
   "source": [
    "sc.stop()"
   ]
  },
  {
   "cell_type": "markdown",
   "metadata": {},
   "source": [
    "## 4. Shutdown Spark Cluster"
   ]
  },
  {
   "cell_type": "code",
   "execution_count": 7,
   "metadata": {},
   "outputs": [
    {
     "name": "stdout",
     "output_type": "stream",
     "text": [
      "Stopping Spark cluster:\n",
      "node0355.palmetto.clemson.edu: stopping org.apache.spark.deploy.worker.Worker\n",
      "node0317.palmetto.clemson.edu: stopping org.apache.spark.deploy.worker.Worker\n",
      "node0442.palmetto.clemson.edu: stopping org.apache.spark.deploy.worker.Worker\n",
      "stopping org.apache.spark.deploy.master.Master\n"
     ]
    }
   ],
   "source": [
    "!bash stop_spark_cluster.sh"
   ]
  },
  {
   "cell_type": "code",
   "execution_count": null,
   "metadata": {},
   "outputs": [],
   "source": []
  }
 ],
 "metadata": {
  "kernelspec": {
   "display_name": "Python 3 (Anaconda 5.1.0)",
   "language": "python",
   "name": "anaconda3-5.1.0"
  },
  "language_info": {
   "codemirror_mode": {
    "name": "ipython",
    "version": 3
   },
   "file_extension": ".py",
   "mimetype": "text/x-python",
   "name": "python",
   "nbconvert_exporter": "python",
   "pygments_lexer": "ipython3",
   "version": "3.6.10"
  }
 },
 "nbformat": 4,
 "nbformat_minor": 1
}
